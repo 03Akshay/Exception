{
 "cells": [
  {
   "cell_type": "markdown",
   "id": "f020c526-97a6-4d8e-be5e-a2beadf4f0ac",
   "metadata": {},
   "source": [
    "# Assignment"
   ]
  },
  {
   "cell_type": "markdown",
   "id": "4ce63748-7d20-4988-b295-632a65ae6200",
   "metadata": {},
   "source": [
    "# 1.Explain GET and POST methods."
   ]
  },
  {
   "cell_type": "markdown",
   "id": "b2b084de-769f-4c93-8d52-1c3c21c9c22f",
   "metadata": {},
   "source": [
    "###\n",
    "GET and POST are two HTTP methods used to send data to a web server.\n",
    "\n",
    "The GET method is used to request data from the server. When a user clicks on a link, the browser sends a GET request to the server to retrieve the resource identified by the link. The data is appended to the URL as query parameters, which are visible in the browser's address bar. GET requests are typically used for retrieving data, but not for modifying it, since the data is exposed in the URL and can be easily manipulated by a user.\n",
    "\n",
    "The POST method, on the other hand, is used to submit data to the server to create or update a resource. When a user submits a form, the data is sent to the server using a POST request, and the data is included in the body of the request, rather than in the URL. POST requests are typically used for submitting data, such as user input, and are more secure than GET requests, since the data is not exposed in the URL.\n",
    "\n",
    "In summary, GET requests are used to retrieve data from the server, while POST requests are used to submit data to the server. GET requests are usually used for safe, read-only operations, while POST requests are used for data modifications or creation."
   ]
  },
  {
   "cell_type": "markdown",
   "id": "fef4651a-d853-4146-83e9-e8733e65947c",
   "metadata": {},
   "source": [
    "# 2.Why is request used in Flask?"
   ]
  },
  {
   "cell_type": "markdown",
   "id": "13551c1f-21ee-4eaf-af09-80b56d6102ba",
   "metadata": {},
   "source": [
    "###\n",
    "In Flask, the request object is used to handle incoming HTTP requests from clients. The request object contains all the information sent by the client, including any data submitted in a form, cookies, and headers.\n",
    "\n",
    "The request object provides access to the parameters in the query string of a GET request and to the form data of a POST request. It also provides methods to handle file uploads and to read the values of cookies and headers. Additionally, the request object provides a secure way to access user data by filtering out potentially harmful characters or data.\n",
    "\n",
    "The request object is an essential part of handling client-server communication in Flask, and it allows developers to build dynamic and interactive web applications. By using the request object, Flask makes it easy to handle different types of client requests and to provide a secure way of handling user input."
   ]
  },
  {
   "cell_type": "markdown",
   "id": "b6fc507d-48b9-4ac2-9edb-949d45d6b6c4",
   "metadata": {},
   "source": [
    "# 3.Why is redirect() used in Flask?"
   ]
  },
  {
   "cell_type": "markdown",
   "id": "c1da3935-d085-4333-8a07-c3f3742ff0f3",
   "metadata": {},
   "source": [
    "###\n",
    "In Flask, the redirect() function is used to redirect the client to a different URL. This is useful when a web application needs to redirect the user to a different page or route after a certain action has been performed, such as after submitting a form or logging in.\n",
    "\n",
    "The redirect() function returns an HTTP response with a 302 status code, which instructs the client to make a new request to the specified URL. The new URL can be either a relative or absolute URL, and it can be specified as a string or as a function that returns a string.\n",
    "\n",
    "Here's an example of how redirect() can be used in a Flask view function:"
   ]
  },
  {
   "cell_type": "code",
   "execution_count": null,
   "id": "2f96dd3a-58a0-4e39-a36c-8d29fe20cd80",
   "metadata": {},
   "outputs": [],
   "source": [
    "from flask import Flask, redirect, url_for\n",
    "\n",
    "app = Flask(__name__)\n",
    "\n",
    "@app.route('/')\n",
    "def index():\n",
    "    return 'Hello, World!'\n",
    "\n",
    "@app.route('/redirect')\n",
    "def redirect_example():\n",
    "    return redirect(url_for('index'))"
   ]
  },
  {
   "cell_type": "markdown",
   "id": "c73311dc-b577-4d80-ab20-5b11d4ebcbb1",
   "metadata": {},
   "source": [
    "###\n",
    "In this example, the redirect_example() function redirects the client to the index() function using the url_for() function to generate the URL. When a user navigates to the /redirect URL, the server will respond with a redirect to the / URL, which will display the 'Hello, World!' message.\n",
    "\n",
    "Overall, the redirect() function is an important tool for controlling the flow of a Flask application and providing a smooth user experience."
   ]
  },
  {
   "cell_type": "markdown",
   "id": "43bb65e2-e3e7-4687-877b-6b5d5c9404ac",
   "metadata": {},
   "source": [
    "# 4.What are templates in Flask? Why is the render_template() function used?"
   ]
  },
  {
   "cell_type": "markdown",
   "id": "5a837198-f47c-4b83-b5e9-32c514709768",
   "metadata": {},
   "source": [
    "###\n",
    "In Flask, templates are files that contain HTML, CSS, and/or JavaScript code, along with placeholders for dynamic data that can be filled in by a Flask view function. Templates make it easy to create consistent, well-structured pages that can be customized for different use cases.\n",
    "\n",
    "The Flask framework includes a templating engine called Jinja2, which provides a powerful and flexible way to create templates that can be used with Flask. Jinja2 templates use a simple syntax for inserting dynamic content, including variables, loops, and conditional statements.\n",
    "\n",
    "The render_template() function in Flask is used to render a template and return it as an HTTP response to the client. The render_template() function takes the name of the template file and any data that should be inserted into the template as keyword arguments. Here's an example:"
   ]
  },
  {
   "cell_type": "code",
   "execution_count": null,
   "id": "44cfa141-e857-4516-843e-42a643108a74",
   "metadata": {},
   "outputs": [],
   "source": [
    "from flask import Flask, render_template\n",
    "\n",
    "app = Flask(__name__)\n",
    "\n",
    "@app.route('/')\n",
    "def index():\n",
    "    name = 'Alice'\n",
    "    return render_template('index.html', name=name)"
   ]
  },
  {
   "cell_type": "markdown",
   "id": "9f484629-26cf-48df-94bf-99124ab6e42c",
   "metadata": {},
   "source": [
    "###\n",
    "In this example, the index() function renders a template called index.html and passes in the variable name as a keyword argument. The name variable can then be used within the template to display the name of the current user, for example.\n",
    "\n",
    "Overall, the render_template() function is an essential tool for creating dynamic and personalized web pages with Flask. By using templates, Flask makes it easy to separate presentation and business logic, and to create reusable, modular components that can be customized for different use cases."
   ]
  },
  {
   "cell_type": "markdown",
   "id": "486bfb65-9ad4-40b4-9368-f8fbe030e750",
   "metadata": {},
   "source": [
    "### 5.Create a simple API. Use Postman to test it. Attach the screenshot of the output in the Jupyter Notebook."
   ]
  },
  {
   "cell_type": "code",
   "execution_count": null,
   "id": "a2b551e4-3631-41f1-a6e5-45921d2b3218",
   "metadata": {},
   "outputs": [],
   "source": [
    "from flask import Flask, jsonify, request\n",
    "\n",
    "app = Flask(__name__)\n",
    "\n",
    "@app.route('/hello', methods=['GET'])\n",
    "def hello():\n",
    "    name = request.args.get('name')\n",
    "    if name:\n",
    "        message = f'Hello, {name}!'\n",
    "    else:\n",
    "        message = 'Hello, World!'\n",
    "    return jsonify({'message': message})\n",
    "\n",
    "if __name__ == '__main__':\n",
    "    app.run(debug=True)"
   ]
  },
  {
   "cell_type": "markdown",
   "id": "386e4948-677d-43b5-8889-5a09f5bc8ff3",
   "metadata": {},
   "source": [
    "###\n",
    "In this example, we have defined a simple API that responds to a GET request to the /hello route. The API expects a query parameter called name, and it returns a JSON object containing a message that includes the name if it is provided, or \"Hello, World!\" if it is not.\n",
    "\n",
    "To test this API using Postman, you can follow these steps:\n",
    "\n",
    "1. Open Postman and create a new request.\n",
    "2. Set the request method to GET.\n",
    "3. Set the request URL to http://localhost:5000/hello.\n",
    "4. Add a query parameter called name and set its value to your name (or any other value).\n",
    "5. Click the Send button to make the request.\n",
    "6. The response from the server will be displayed in the Response panel in Postman.\n",
    "You should see a JSON response containing a message that includes the name you provided (or \"Hello, World!\" if no name was provided)."
   ]
  },
  {
   "cell_type": "code",
   "execution_count": null,
   "id": "ff066751-e826-463a-a659-ea0272de434e",
   "metadata": {},
   "outputs": [],
   "source": []
  }
 ],
 "metadata": {
  "kernelspec": {
   "display_name": "Python 3 (ipykernel)",
   "language": "python",
   "name": "python3"
  },
  "language_info": {
   "codemirror_mode": {
    "name": "ipython",
    "version": 3
   },
   "file_extension": ".py",
   "mimetype": "text/x-python",
   "name": "python",
   "nbconvert_exporter": "python",
   "pygments_lexer": "ipython3",
   "version": "3.10.8"
  }
 },
 "nbformat": 4,
 "nbformat_minor": 5
}
