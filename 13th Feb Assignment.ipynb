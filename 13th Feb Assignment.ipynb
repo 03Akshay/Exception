{
 "cells": [
  {
   "cell_type": "markdown",
   "id": "5ee463b2-3194-424c-a47a-de8a140e415c",
   "metadata": {},
   "source": [
    "# Assignment"
   ]
  },
  {
   "cell_type": "markdown",
   "id": "fdd7e859-8828-4eb1-9712-d1c4df486cee",
   "metadata": {},
   "source": [
    "## 1.Explain why we have to use the Exception class while creating a Custom Exception."
   ]
  },
  {
   "cell_type": "markdown",
   "id": "1c856f59-c6c6-4947-a4d7-59f86e04240c",
   "metadata": {},
   "source": [
    "#### \n",
    "     In programming, exceptions are used to handle unexpected or exceptional situations that occur during the execution of a program. When a program encounters an error or an exceptional condition, it throws an exception. These exceptions can be caught and handled, allowing the program to recover and continue running.\n",
    "     When creating a custom exception, we usually inherit from the built-in Exception class. This is because the Exception class provides a lot of functionality that is useful for creating and handling exceptions, including:"
   ]
  },
  {
   "cell_type": "markdown",
   "id": "f4b1a381-5ad3-4364-b829-6f22240b7ef7",
   "metadata": {},
   "source": [
    "### \n",
    "    1.A standardized interface: By inheriting from the Exception class, our custom exception will have a standardized interface that makes it easier to use and handle in a consistent way.\n",
    "\n",
    "    2.Built-in methods: The Exception class provides several built-in methods that can be used to customize the behavior of the exception, including __str__ for generating a string representation of the exception and __repr__ for generating a detailed representation of the exception.\n",
    "\n",
    "    3.Exception hierarchy: The Exception class is part of a hierarchy of exception classes, which allows us to organize and categorize exceptions based on their type and severity. By inheriting from Exception, our custom exception will automatically be part of this hierarchy, making it easier to manage and handle.\n",
    "\n",
    "    4.Compatibility: Finally, by inheriting from Exception, our custom exception will be compatible with existing exception handling mechanisms in Python, such as try/except blocks and raise statements. This makes it easier to integrate our custom exception into existing code and libraries.\n",
    "\n",
    "    Overall, using the Exception class as a base for our custom exceptions provides a solid foundation for creating and handling exceptions in Python, making it easier to write robust and reliable code.\n",
    "\n",
    "\n",
    "\n"
   ]
  },
  {
   "cell_type": "markdown",
   "id": "430e0aaf-be53-4815-8c16-f379a9743b6f",
   "metadata": {},
   "source": [
    "# 2.Write a python program to print Python Exception Hierarchy."
   ]
  },
  {
   "cell_type": "code",
   "execution_count": 2,
   "id": "3eedb1cf-fcc9-4284-80c9-719faaed060f",
   "metadata": {},
   "outputs": [
    {
     "name": "stdout",
     "output_type": "stream",
     "text": [
      "BaseException\n",
      "object\n",
      "End of Hierarchy\n"
     ]
    }
   ],
   "source": [
    "import sys\n",
    "\n",
    "# Get the base exception class\n",
    "base_exception = BaseException\n",
    "\n",
    "# Print the exception hierarchy\n",
    "while base_exception is not None:\n",
    "    print(base_exception.__name__)\n",
    "    base_exception = base_exception.__base__\n",
    "\n",
    "print('End of Hierarchy')"
   ]
  },
  {
   "cell_type": "markdown",
   "id": "a23ee3a2-0ec5-4a8e-8e20-897ee1d96e0b",
   "metadata": {},
   "source": [
    "## 3.What errors are defined in the ArithmeticError class? Explain any two with an example."
   ]
  },
  {
   "cell_type": "markdown",
   "id": "7a135028-6ebb-49f7-b244-50d67be4ed49",
   "metadata": {},
   "source": [
    "### \n",
    "    The ArithmeticError class is a base class for exceptions that occur during arithmetic operations. This class is part of the Python Exception Hierarchy and is itself a subclass of the Exception class.\n",
    "\n",
    "    The ArithmeticError class defines several subclasses that are used to represent specific types of arithmetic errors. Here are two examples:\n",
    "    \n",
    "    1.ZeroDivisionError: This exception is raised when attempting to divide by zero. For example:"
   ]
  },
  {
   "cell_type": "code",
   "execution_count": 3,
   "id": "75e3e176-9aa5-4427-9e0e-8c1baa2dc9a3",
   "metadata": {},
   "outputs": [
    {
     "name": "stdout",
     "output_type": "stream",
     "text": [
      "Error: Cannot divide by zero\n"
     ]
    }
   ],
   "source": [
    "a = 5\n",
    "b = 0\n",
    "try:\n",
    "    c = a / b\n",
    "except ZeroDivisionError:\n",
    "    print(\"Error: Cannot divide by zero\")"
   ]
  },
  {
   "cell_type": "markdown",
   "id": "6aeeaf18-154c-4f7f-be04-65028cc00ea7",
   "metadata": {},
   "source": [
    "### \n",
    "     In this example, we are trying to divide a by b, but since b is 0, a ZeroDivisionError is raised. We catch the exception using a try/except block and print an error message.\n",
    "\n",
    "    2.OverflowError: This exception is raised when a calculation exceeds the maximum representable value for a numeric type. For example:"
   ]
  },
  {
   "cell_type": "code",
   "execution_count": 7,
   "id": "5f8bf7dd-0d8d-4600-8200-922e152dffe9",
   "metadata": {},
   "outputs": [],
   "source": [
    "import sys\n",
    "a = sys.maxsize\n",
    "try:\n",
    "    b = a * a\n",
    "except OverflowError:\n",
    "    print(\"Error: Calculation overflowed\")"
   ]
  },
  {
   "cell_type": "markdown",
   "id": "77ea8618-a149-45c2-b7f8-a029539f2423",
   "metadata": {},
   "source": [
    "### \n",
    "    In this example, we are calculating the square of a, which is equal to the maximum representable integer on the current platform. Since the result of the calculation exceeds the maximum representable value, an OverflowError is raised. We catch the exception using a try/except block and print an error message.\n",
    "\n",
    "     In both of these examples, we catch the specific exception that is raised (either ZeroDivisionError or OverflowError) using a try/except block. This allows us to handle the exception in a way that makes sense for our program, such as printing an error message or taking some other action to recover from the error."
   ]
  },
  {
   "cell_type": "markdown",
   "id": "bafebf39-ae66-4461-93f5-7408f5f836b7",
   "metadata": {},
   "source": [
    "### \n",
    "     It's worth noting that the ArithmeticError class and its subclasses are not the only types of exceptions that can be raised during arithmetic operations. For example, a ValueError can be raised if attempting to convert a string to a numeric type fails. However, the ArithmeticError class and its subclasses are specifically designed to handle errors that occur during arithmetic calculations."
   ]
  },
  {
   "cell_type": "markdown",
   "id": "f3ab6aa6-50cb-46c8-8ab5-dc0fb89f8fd3",
   "metadata": {},
   "source": [
    "## 4.Why LookupError class is used? Explain with an example KeyError and IndexError."
   ]
  },
  {
   "cell_type": "markdown",
   "id": "8e4945b3-11d0-4b40-b426-d6a7db5b7e05",
   "metadata": {},
   "source": [
    "### \n",
    "     The LookupError class is a base class for exceptions that occur when looking up an item in a container (such as a list or dictionary) fails. This class is part of the Python Exception Hierarchy and is itself a subclass of the Exception class.\n",
    "\n",
    "    The LookupError class defines several subclasses that are used to represent specific types of lookup errors. Here are two examples:\n",
    "\n",
    "    1.KeyError: This exception is raised when a dictionary key is not found. For example:"
   ]
  },
  {
   "cell_type": "code",
   "execution_count": 8,
   "id": "de397454-6064-4681-bddf-993fc79e3ec3",
   "metadata": {},
   "outputs": [
    {
     "name": "stdout",
     "output_type": "stream",
     "text": [
      "Error: Key not found in dictionary\n"
     ]
    }
   ],
   "source": [
    "my_dict = {'a': 1, 'b': 2, 'c': 3}\n",
    "try:\n",
    "    value = my_dict['d']\n",
    "except KeyError:\n",
    "    print(\"Error: Key not found in dictionary\")"
   ]
  },
  {
   "cell_type": "markdown",
   "id": "8ce773d1-1585-4dfb-9ca8-bf4663e0959c",
   "metadata": {},
   "source": [
    "### \n",
    "      In this example, we are trying to access the value associated with the key 'd' in the my_dict dictionary. However, since the key 'd' is not present in the dictionary, a KeyError is raised. We catch the exception using a try/except block and print an error message.\n",
    "\n",
    "    2.IndexError: This exception is raised when a list index is out of range. For example:"
   ]
  },
  {
   "cell_type": "code",
   "execution_count": 9,
   "id": "e6be1682-ab57-48a6-8d1d-991c839d7bf9",
   "metadata": {},
   "outputs": [
    {
     "name": "stdout",
     "output_type": "stream",
     "text": [
      "Error: Index out of range\n"
     ]
    }
   ],
   "source": [
    "my_list = [1, 2, 3]\n",
    "try:\n",
    "    value = my_list[3]\n",
    "except IndexError:\n",
    "    print(\"Error: Index out of range\")"
   ]
  },
  {
   "cell_type": "markdown",
   "id": "2e056742-f7ba-434d-ab8c-3102cf26d28e",
   "metadata": {},
   "source": [
    "###\n",
    "    In this example, we are trying to access the value at index 3 in the my_list list. However, since the list has only three elements (and therefore only indices 0, 1, and 2), an IndexError is raised. We catch the exception using a try/except block and print an error message."
   ]
  },
  {
   "cell_type": "markdown",
   "id": "c911491e-4619-48ae-9f1a-00934d49e11e",
   "metadata": {},
   "source": [
    "# 5.Explain ImportError. What is ModuleNotFoundError?"
   ]
  },
  {
   "cell_type": "markdown",
   "id": "2f7b4c6c-0100-4178-af6b-d6f4468c1506",
   "metadata": {},
   "source": [
    "###\n",
    "    ImportError and ModuleNotFoundError are both Python exceptions that are raised when there are issues with importing a module.\n",
    "\n",
    "    ImportError is a general exception that is raised when there are problems with importing a module. This could happen if the module is not found in any of the directories in sys.path, or if there are syntax errors or other issues with the module code.\n",
    "\n",
    "    ModuleNotFoundError is a more specific exception that is raised when a module cannot be found. It was introduced in Python 3.6 to provide a more specific error message when an imported module cannot be found in any of the directories in sys.path."
   ]
  },
  {
   "cell_type": "code",
   "execution_count": 11,
   "id": "f2316ff6-8b37-4357-8a0d-6a627b1428c4",
   "metadata": {},
   "outputs": [
    {
     "ename": "SyntaxError",
     "evalue": "invalid syntax (81401362.py, line 2)",
     "output_type": "error",
     "traceback": [
      "\u001b[0;36m  Cell \u001b[0;32mIn[11], line 2\u001b[0;36m\u001b[0m\n\u001b[0;31m    ModuleNotFoundError: No module named 'non_existent_module'\u001b[0m\n\u001b[0m                            ^\u001b[0m\n\u001b[0;31mSyntaxError\u001b[0m\u001b[0;31m:\u001b[0m invalid syntax\n"
     ]
    }
   ],
   "source": [
    ">>> import non_existent_module\n",
    "ModuleNotFoundError: No module named 'non_existent_module'"
   ]
  },
  {
   "cell_type": "markdown",
   "id": "3c4d7943-753a-44aa-ad6e-fcd7ae3b17ec",
   "metadata": {},
   "source": [
    "## 6.List down some best practices for exception handling in python."
   ]
  },
  {
   "cell_type": "markdown",
   "id": "b3a67c47-ef87-4e11-a735-b4bc711a0544",
   "metadata": {},
   "source": [
    "### "
   ]
  },
  {
   "cell_type": "markdown",
   "id": "a4f94063-3186-44f8-b8ab-79da3bb1b849",
   "metadata": {},
   "source": []
  },
  {
   "cell_type": "markdown",
   "id": "75b40138-a765-447d-a346-b6ef78b75adf",
   "metadata": {},
   "source": []
  },
  {
   "cell_type": "markdown",
   "id": "7dd94956-e194-4950-b226-8fa1eab43e7a",
   "metadata": {},
   "source": []
  },
  {
   "cell_type": "markdown",
   "id": "01a31760-0160-4ed0-8b9b-6d75bdaa2837",
   "metadata": {},
   "source": []
  },
  {
   "cell_type": "markdown",
   "id": "88692572-2179-45e8-bf1f-501a76fe9361",
   "metadata": {},
   "source": []
  },
  {
   "cell_type": "markdown",
   "id": "e0472415-c734-42df-852b-760229684e9a",
   "metadata": {},
   "source": []
  }
 ],
 "metadata": {
  "kernelspec": {
   "display_name": "Python 3 (ipykernel)",
   "language": "python",
   "name": "python3"
  },
  "language_info": {
   "codemirror_mode": {
    "name": "ipython",
    "version": 3
   },
   "file_extension": ".py",
   "mimetype": "text/x-python",
   "name": "python",
   "nbconvert_exporter": "python",
   "pygments_lexer": "ipython3",
   "version": "3.10.8"
  }
 },
 "nbformat": 4,
 "nbformat_minor": 5
}
