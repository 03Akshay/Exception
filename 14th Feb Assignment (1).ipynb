{
 "cells": [
  {
   "cell_type": "markdown",
   "id": "ebfd2920-cd80-44bf-9b65-ad254e16bfaf",
   "metadata": {},
   "source": [
    "# Assignment"
   ]
  },
  {
   "cell_type": "markdown",
   "id": "39f4bf21-e3d6-4dfa-aa63-146aaecbe1ac",
   "metadata": {},
   "source": [
    "## 1.What is multithreading in python? Why is it used? Name the module used to handle threads in python."
   ]
  },
  {
   "cell_type": "markdown",
   "id": "2a306437-34e9-4039-b1c5-bb81129fa866",
   "metadata": {},
   "source": [
    "###\n",
    "     Multithreading in Python refers to the capability of running multiple threads (lightweight processes) simultaneously within a single program. Each thread runs independently, and they share the same memory space, allowing for more efficient use of resources in the system.\n",
    "\n",
    "    Multithreading is used to perform parallel processing tasks such as handling multiple network connections, processing large amounts of data, or performing complex computations, without blocking the main thread of execution.\n",
    "\n",
    "    \"The threading module is used to handle threads in Python.\" This module provides a simple way to create and manage threads within a Python program. It allows for creating new threads, starting them, and joining them, as well as provides synchronization primitives like locks, events, and semaphores to help manage access to shared resources between threads."
   ]
  },
  {
   "cell_type": "code",
   "execution_count": 1,
   "id": "ca4934a1-458b-4ecd-90d8-8e84f5d35b94",
   "metadata": {},
   "outputs": [
    {
     "name": "stdout",
     "output_type": "stream",
     "text": [
      "1\n",
      "2\n",
      "3\n",
      "4\n",
      "5\n",
      "6\n",
      "7\n",
      "8\n",
      "9\n",
      "10\n",
      "a\n",
      "b\n",
      "c\n",
      "d\n",
      "e\n",
      "f\n",
      "g\n",
      "h\n",
      "i\n",
      "j\n",
      "Finished\n"
     ]
    }
   ],
   "source": [
    "import threading\n",
    "\n",
    "def print_numbers():\n",
    "    for i in range(1, 11):\n",
    "        print(i)\n",
    "\n",
    "def print_letters():\n",
    "    for i in range(ord('a'), ord('k')):\n",
    "        print(chr(i))\n",
    "\n",
    "t1 = threading.Thread(target=print_numbers)\n",
    "t2 = threading.Thread(target=print_letters)\n",
    "\n",
    "t1.start()\n",
    "t2.start()\n",
    "\n",
    "t1.join()\n",
    "t2.join()\n",
    "\n",
    "print(\"Finished\")"
   ]
  },
  {
   "cell_type": "markdown",
   "id": "b9c75068-0913-4652-af73-e668cd7f593a",
   "metadata": {},
   "source": [
    "## 2.Why threading module used? Write the use of the following functions\n",
    "    \n",
    "    1.activeCount()\n",
    "    2.currentThread()\n",
    "    3.enumerate()"
   ]
  },
  {
   "cell_type": "markdown",
   "id": "c7489d29-cf6d-4731-b2b2-2df872732aa2",
   "metadata": {},
   "source": [
    "###\n",
    "     The threading module in Python is used to create and manage threads in a program. It provides a simple and easy-to-use interface for creating and managing threads, along with synchronization primitives such as locks and semaphores to manage access to shared resources.\n",
    "    \n",
    "    Here are the use cases of the following functions in the threading module:"
   ]
  },
  {
   "cell_type": "markdown",
   "id": "2bc0b098-e801-4990-81f0-bd2150dedbca",
   "metadata": {},
   "source": [
    "### 1.activeCount(): This function is used to get the number of threads that are currently active and running in the program. It returns the number of thread objects that are currently running or in the \"runnable\" state. This function is useful for monitoring the status of threads and detecting potential issues such as deadlocks."
   ]
  },
  {
   "cell_type": "markdown",
   "id": "6576f87b-1e6f-4e3f-ad18-eaa3ee7b5ed2",
   "metadata": {},
   "source": [
    "### 2.currentThread(): This function is used to get a reference to the currently executing thread object. It returns the thread object representing the thread that calls this function. This function is useful for getting information about the current thread, such as its name or ID, and for passing the thread object as an argument to other functions."
   ]
  },
  {
   "cell_type": "markdown",
   "id": "9747cf33-db56-4b88-b280-92ed7ce7f2fd",
   "metadata": {},
   "source": [
    "### 3.enumerate(): This function is used to get a list of all currently active thread objects. It returns a list of all thread objects, including the main thread and any child threads that have been created. This function is useful for monitoring the status of all threads in the program and for performing operations on all threads, such as stopping or joining them."
   ]
  },
  {
   "cell_type": "markdown",
   "id": "326979d8-0e2b-445e-aed9-ba1cdfc3db26",
   "metadata": {},
   "source": [
    "# 3.Explain the following functions\n",
    "    1.run()\n",
    "    2.start()\n",
    "    3.join()\n",
    "    4.isAlive()"
   ]
  },
  {
   "cell_type": "markdown",
   "id": "4d446a78-6f49-4769-a51e-9ccced6fe59d",
   "metadata": {},
   "source": [
    "### 1.run(): This is a method defined in the Thread class that represents the code that will be executed when the thread starts. It is called automatically when the start() method is called. Typically, you override this method when you subclass Thread to provide your own custom code to be executed in the new thread."
   ]
  },
  {
   "cell_type": "markdown",
   "id": "f5245e26-c8c6-41ec-bfdd-2bdb6cc4ab18",
   "metadata": {},
   "source": [
    "### 2.start(): This method is used to start a new thread of execution for the target method specified in the Thread constructor. When start() is called, a new thread is created, and the run() method is called in that new thread. It is important to note that start() does not wait for the thread to complete, it just schedules the thread to run."
   ]
  },
  {
   "cell_type": "markdown",
   "id": "44af88dc-0165-4bdb-9d62-7f4399977e49",
   "metadata": {},
   "source": [
    "### 3.join(): This method is used to wait for a thread to complete its execution. When join() is called, the calling thread (i.e., the thread that called join()) blocks until the thread being joined completes its execution. If the thread has already completed, join() returns immediately. This is useful when you want to make sure that a thread has completed before continuing execution in the calling thread.\n"
   ]
  },
  {
   "cell_type": "markdown",
   "id": "622c9e08-6e1f-48e7-9257-89759ad92c5b",
   "metadata": {},
   "source": [
    "### 4.isAlive(): This method is used to determine if a thread is currently executing. It returns True if the thread is still running and has not yet completed its execution, and False otherwise. This method is useful for monitoring the status of a thread and determining when it has completed its work."
   ]
  },
  {
   "cell_type": "markdown",
   "id": "92e5d369-94eb-437d-b457-c72aa7d39981",
   "metadata": {},
   "source": [
    "# 4.Write a python program to create two threads. Thread one must print the list of squares and thread two must print the list of cubes"
   ]
  },
  {
   "cell_type": "code",
   "execution_count": 3,
   "id": "a0f7343f-d734-40cc-8731-5fc211e7303f",
   "metadata": {},
   "outputs": [
    {
     "name": "stdout",
     "output_type": "stream",
     "text": [
      "Square of 1 is 1\n",
      "Square of 2 is 4\n",
      "Square of 3 is 9\n",
      "Square of 4 is 16\n",
      "Square of 5 is 25\n",
      "Square of 6 is 36\n",
      "Square of 7 is 49\n",
      "Square of 8 is 64\n",
      "Square of 9 is 81\n",
      "Square of 10 is 100\n",
      "Cube of 1 is 1\n",
      "Cube of 2 is 8\n",
      "Cube of 3 is 27\n",
      "Cube of 4 is 64\n",
      "Cube of 5 is 125\n",
      "Cube of 6 is 216\n",
      "Cube of 7 is 343\n",
      "Cube of 8 is 512\n",
      "Cube of 9 is 729\n",
      "Cube of 10 is 1000\n",
      "Finished\n"
     ]
    }
   ],
   "source": [
    "import threading\n",
    "\n",
    "def print_squares():\n",
    "    for i in range(1, 11):\n",
    "        print(f\"Square of {i} is {i**2}\")\n",
    "\n",
    "def print_cubes():\n",
    "    for i in range(1, 11):\n",
    "        print(f\"Cube of {i} is {i**3}\")\n",
    "\n",
    "t1 = threading.Thread(target=print_squares)\n",
    "t2 = threading.Thread(target=print_cubes)\n",
    "\n",
    "t1.start()\n",
    "t2.start()\n",
    "\n",
    "t1.join()\n",
    "t2.join()\n",
    "\n",
    "print(\"Finished\")"
   ]
  },
  {
   "cell_type": "markdown",
   "id": "48c488c1-6dfc-47b8-80ed-5ff479209e3a",
   "metadata": {},
   "source": [
    "# 5.State advantages and disadvantages of multithreading"
   ]
  },
  {
   "cell_type": "markdown",
   "id": "266c1d5a-61df-4a53-a832-a83bafcdb53f",
   "metadata": {},
   "source": [
    "### \n",
    "    Advantages:\n",
    "\n",
    "    1.Improved performance: Multithreading can improve the performance of a program by allowing multiple tasks to be executed simultaneously. This can lead to faster execution times and better resource utilization.\n",
    "\n",
    "    2.Increased responsiveness: Multithreading can improve the responsiveness of a program by allowing tasks to be executed in the background while the user continues to interact with the application.\n",
    "\n",
    "    3.Resource sharing: Multithreading allows multiple threads to access shared resources such as memory, I/O devices, and network connections. This can reduce the need for expensive synchronization mechanisms and can make programs more efficient.\n",
    "\n",
    "    4.Simplified coding: Multithreading can simplify coding by allowing complex tasks to be broken down into smaller, more manageable subtasks that can be executed concurrently."
   ]
  },
  {
   "cell_type": "markdown",
   "id": "21e9c427-87e8-465d-8648-0cda207abd17",
   "metadata": {},
   "source": [
    "### \n",
    "    Disadvantages:\n",
    "\n",
    "    1.Complexity: Multithreading can add complexity to a program by requiring synchronization mechanisms to ensure that threads do not interfere with each other. This can make programs harder to develop and debug.\n",
    "\n",
    "    2.Increased resource usage: Multithreading can increase resource usage, especially when many threads are created. This can lead to increased memory usage and CPU utilization, which can impact overall system performance.\n",
    "\n",
    "    3.Race conditions: Multithreading can create race conditions, where two or more threads access a shared resource at the same time, leading to unpredictable results. Race conditions can be difficult to detect and debug.\n",
    "\n",
    "    4.Deadlocks: Multithreading can lead to deadlocks, where two or more threads are blocked waiting for each other to release a resource. Deadlocks can bring a program to a standstill and can be difficult to resolve."
   ]
  },
  {
   "cell_type": "markdown",
   "id": "e9e1919d-fa7c-4ece-8b03-e14acea92225",
   "metadata": {},
   "source": [
    "# 6.Explain deadlocks and race condition."
   ]
  },
  {
   "cell_type": "markdown",
   "id": "1628a4c6-4e86-424a-b3c7-4fa417e1f98a",
   "metadata": {},
   "source": [
    "### Deadlocks and race conditions are two types of concurrency issues that can occur in multithreaded programs. Here are their definitions and explanations:"
   ]
  },
  {
   "cell_type": "markdown",
   "id": "1002627d-2d50-448e-bcac-07612ef719c4",
   "metadata": {},
   "source": [
    "###  1.Deadlock: A deadlock occurs when two or more threads are blocked waiting for each other to release a resource, resulting in a situation where no thread can proceed. Deadlocks can occur when two or more threads acquire locks on resources in different orders, leading to a circular wait. Deadlocks can also occur when a thread acquires multiple locks and then blocks while waiting for another thread to release a lock that the first thread needs. Deadlocks can be difficult to detect and resolve because they can involve multiple threads and multiple resources."
   ]
  },
  {
   "cell_type": "markdown",
   "id": "84692764-daf0-43a9-956d-7ca9e63560bc",
   "metadata": {},
   "source": [
    "### 2.Race condition: A race condition occurs when two or more threads access a shared resource in an unpredictable order, leading to unpredictable results. Race conditions can occur when threads are not synchronized properly, allowing multiple threads to access a shared resource at the same time. Race conditions can lead to data corruption, incorrect results, and other unexpected behavior. For example, if two threads access the same variable and try to modify it at the same time, the final value of the variable can be unpredictable."
   ]
  },
  {
   "cell_type": "code",
   "execution_count": 5,
   "id": "ed2b0033-d21f-44b7-aedf-4fd13049044a",
   "metadata": {},
   "outputs": [
    {
     "name": "stdout",
     "output_type": "stream",
     "text": [
      "Final count: 200000\n"
     ]
    }
   ],
   "source": [
    "import threading\n",
    "\n",
    "count = 0\n",
    "\n",
    "def increment():\n",
    "    global count\n",
    "    for i in range(100000):\n",
    "        count += 1\n",
    "\n",
    "t1 = threading.Thread(target=increment)\n",
    "t2 = threading.Thread(target=increment)\n",
    "\n",
    "t1.start()\n",
    "t2.start()\n",
    "\n",
    "t1.join()\n",
    "t2.join()\n",
    "\n",
    "print(f\"Final count: {count}\")"
   ]
  },
  {
   "cell_type": "code",
   "execution_count": null,
   "id": "bb033c67-4ad6-4558-87fc-8e7c0c93911b",
   "metadata": {},
   "outputs": [],
   "source": []
  }
 ],
 "metadata": {
  "kernelspec": {
   "display_name": "Python 3 (ipykernel)",
   "language": "python",
   "name": "python3"
  },
  "language_info": {
   "codemirror_mode": {
    "name": "ipython",
    "version": 3
   },
   "file_extension": ".py",
   "mimetype": "text/x-python",
   "name": "python",
   "nbconvert_exporter": "python",
   "pygments_lexer": "ipython3",
   "version": "3.10.8"
  }
 },
 "nbformat": 4,
 "nbformat_minor": 5
}
