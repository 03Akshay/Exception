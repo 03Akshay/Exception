{
 "cells": [
  {
   "cell_type": "markdown",
   "id": "8c389001-c56b-4977-9d32-c2114577ae81",
   "metadata": {},
   "source": [
    "# Assignment"
   ]
  },
  {
   "cell_type": "markdown",
   "id": "8965e62b-6a18-4c6d-9034-7d9fd8058f5e",
   "metadata": {},
   "source": [
    "## 1.What is multiprocessing in python? Why is it useful?"
   ]
  },
  {
   "cell_type": "markdown",
   "id": "a6a70e23-629a-4bc8-b833-cb3409accb55",
   "metadata": {},
   "source": [
    "### \n",
    "    Multiprocessing in Python is a way of executing multiple processes in parallel, using multiple CPUs or cores. It allows you to take advantage of the computational power of modern computers by running multiple tasks concurrently.\n",
    "\n",
    "    The multiprocessing module in Python provides a way to create and manage processes in a simple and efficient manner. It allows you to split a task into multiple smaller subtasks, and then execute each of these subtasks in parallel, thus reducing the overall execution time.\n",
    "\n",
    "    Multiprocessing is particularly useful when working with CPU-bound tasks, where the processing time is dominated by CPU usage rather than I/O operations. By using multiple processes, you can perform these tasks more quickly and efficiently.\n",
    "\n",
    "    Another advantage of multiprocessing is that it allows you to execute tasks independently of each other, which can help you avoid issues with resource contention and conflicts. For example, if you have multiple threads trying to access the same resource simultaneously, you may run into issues with race conditions or deadlocks. Multiprocessing avoids these issues by giving each process its own resources to work with.\n",
    "\n",
    "    Overall, multiprocessing can greatly improve the performance and scalability of your Python programs, particularly when dealing with computationally intensive tasks."
   ]
  },
  {
   "cell_type": "markdown",
   "id": "3ffa514c-7b43-48b6-aa33-24cb4162258c",
   "metadata": {},
   "source": [
    "## 2.What are the differences between multiprocessing and multithreading?"
   ]
  },
  {
   "cell_type": "markdown",
   "id": "41e6191a-e1bd-4559-a08e-e01f52ee9955",
   "metadata": {},
   "source": [
    "### \n",
    "    Multiprocessing and multithreading are both techniques used for achieving concurrency in computer programs, but there are several differences between them:\n",
    "\n",
    "    1.Execution: In multiprocessing, multiple processes run concurrently, while in multithreading, multiple threads run concurrently within the same process.\n",
    "\n",
    "    2.Memory: In multiprocessing, each process has its own memory space, while in multithreading, threads share the same memory space.\n",
    "\n",
    "    3.Communication: Inter-process communication (IPC) is typically slower and more complex than inter-thread communication (ITC), which is faster and simpler.\n",
    "\n",
    "    4.Overhead: The overhead of creating and managing processes is generally higher than the overhead of creating and managing threads, which makes multiprocessing less efficient in some cases.\n",
    "\n",
    "    5.Scalability: Multiprocessing can take advantage of multiple CPUs or cores, while multithreading is limited to a single CPU or core."
   ]
  },
  {
   "cell_type": "markdown",
   "id": "1c804b35-ab18-44a5-9693-a553f1340eca",
   "metadata": {},
   "source": [
    "###\n",
    "     In general, multiprocessing is better suited for tasks that are CPU-bound and require parallel execution, while multithreading is better suited for tasks that are I/O-bound and can benefit from parallel execution but do not require as much CPU usage. However, the choice between multiprocessing and multithreading ultimately depends on the specific requirements of the task at hand."
   ]
  },
  {
   "cell_type": "markdown",
   "id": "a7ac0d2e-9722-4d9d-8615-04e6eb68d19f",
   "metadata": {},
   "source": [
    "## 3.Write a python code to create a process using the multiprocessing module."
   ]
  },
  {
   "cell_type": "code",
   "execution_count": 1,
   "id": "0d05e119-5e8b-4b34-8501-22c433c18d01",
   "metadata": {},
   "outputs": [
    {
     "name": "stdout",
     "output_type": "stream",
     "text": [
      "Worker process started\n",
      "Worker process finished\n"
     ]
    }
   ],
   "source": [
    "import multiprocessing\n",
    "\n",
    "def worker():\n",
    "    print(\"Worker process started\")\n",
    "    print(\"Worker process finished\")\n",
    "\n",
    "if __name__ == '__main__':\n",
    "    p = multiprocessing.Process(target=worker)\n",
    "    p.start()\n",
    "    p.join()"
   ]
  },
  {
   "cell_type": "markdown",
   "id": "182d17b0-aa5d-4ef3-a302-bb41e566a306",
   "metadata": {},
   "source": [
    "###\n",
    "     In this example, we define a worker function that will be executed in a separate process. We then create a new process using the Process class from the multiprocessing module, passing the target parameter to specify the function to be run in the new process.\n",
    "\n",
    "     We start the process by calling the start() method on the new process object, which will create a new process and start executing the worker function in it.\n",
    "\n",
    "    Finally, we wait for the process to finish by calling the join() method on the process object. This will block the main process until the new process has finished executing."
   ]
  },
  {
   "cell_type": "markdown",
   "id": "e97dcb27-6ffd-46f8-83d5-66b0f4ae29a4",
   "metadata": {},
   "source": [
    "# 4.What is a multiprocessing pool in python? Why is it used?"
   ]
  },
  {
   "cell_type": "markdown",
   "id": "f53c8d5c-d171-4c74-bc48-ff1ac28c933d",
   "metadata": {},
   "source": [
    "###\n",
    "    In Python's multiprocessing module, a multiprocessing pool is a way of creating a group of worker processes that can execute tasks in parallel. The pool distributes the tasks across the worker processes, and manages the allocation of resources such as CPU time and memory.\n",
    "\n",
    "     A multiprocessing pool is created using the Pool class in the multiprocessing module. The Pool constructor takes an optional argument processes, which specifies the number of worker processes to create in the pool. If processes is not specified, it defaults to the number of CPUs on the machine.\n",
    "\n",
    "     Once a pool is created, you can submit tasks to it using the apply(), map(), or imap() methods. These methods distribute the tasks across the worker processes in the pool, and return the results of the tasks.\n",
    "\n",
    "    Multiprocessing pools are used to parallelize the execution of a large number of tasks that can be run independently of each other. They can greatly improve the performance of programs that perform CPU-bound tasks by taking advantage of multiple CPU cores or processors."
   ]
  },
  {
   "cell_type": "markdown",
   "id": "d57a32b9-05da-4c52-91e4-d269fdc792f4",
   "metadata": {},
   "source": [
    "###\n",
    "     Using a multiprocessing pool is often simpler and more efficient than managing individual processes manually, since the pool handles the allocation of resources and the distribution of tasks automatically. It also provides a high-level interface for submitting tasks and retrieving results, which can be easier to use than lower-level primitives such as pipes and queues.\n",
    "\n",
    "    Overall, a multiprocessing pool is a powerful tool for parallelizing the execution of tasks in Python, and can help you take advantage of the full power of modern multicore and multiprocessor systems."
   ]
  },
  {
   "cell_type": "markdown",
   "id": "9cc7e804-1c63-4856-b529-fadbc7685de4",
   "metadata": {},
   "source": [
    "## 5.How can we create a pool of worker processes in python using the multiprocessing module?"
   ]
  },
  {
   "cell_type": "markdown",
   "id": "e8202a34-4be8-4b9d-81f3-8aa0036aa869",
   "metadata": {},
   "source": [
    "###\n",
    "    To create a pool of worker processes in Python using the multiprocessing module, we can follow these steps:\n",
    "\n",
    "    1.Import the multiprocessing module.\n",
    "    \n",
    "    2.Create a function that defines the work that each worker process will do. This function should take one  or more arguments, and return a value.\n",
    "    \n",
    "    3.Create a pool of worker processes using the Pool class, and specify the number of worker processes to use.\n",
    "\n",
    "    4.Submit work to the pool using one of the apply, map, or imap methods. These methods take the work function and its arguments as inputs, and return the results.\n",
    "    The apply method executes the work function with the specified arguments, and returns the result. The map method applies the work function to each element in a list of arguments, and returns a list of results. The imap method is similar to map, but returns an iterator that allows you to retrieve results as they become available.\n",
    "\n",
    "    5.Close the pool and join the worker processes."
   ]
  },
  {
   "cell_type": "code",
   "execution_count": null,
   "id": "d6753641-58db-4d17-8d3e-40626c0a0611",
   "metadata": {},
   "outputs": [],
   "source": [
    "import multiprocessing\n",
    "\n",
    "def work_function(arg1, arg2):\n",
    "    return result\n",
    "\n",
    "if __name__ == '__main__':\n",
    "    pool = multiprocessing.Pool(processes=4)\n",
    "    result = pool.apply(work_function, args=(arg1, arg2))\n",
    "    results = pool.map(work_function, [(arg1, arg2), (arg3, arg4), ...])\n",
    "    pool.close()\n",
    "    pool.join()"
   ]
  },
  {
   "cell_type": "markdown",
   "id": "d949d5f7-0f5c-41e8-9031-07cc634ce002",
   "metadata": {},
   "source": [
    "### 6.Write a python program to create 4 processes, each process should print a different number using the multiprocessing module in python."
   ]
  },
  {
   "cell_type": "code",
   "execution_count": 2,
   "id": "dec75c12-5e52-4863-b945-b347d68af085",
   "metadata": {},
   "outputs": [
    {
     "name": "stdout",
     "output_type": "stream",
     "text": [
      "0\n",
      "1\n",
      "2\n",
      "3\n"
     ]
    }
   ],
   "source": [
    "import multiprocessing\n",
    "\n",
    "def print_number(num):\n",
    "    print(num)\n",
    "\n",
    "if __name__ == '__main__':\n",
    "    processes = []\n",
    "    for i in range(4):\n",
    "        process = multiprocessing.Process(target=print_number, args=(i,))\n",
    "        processes.append(process)\n",
    "        process.start()\n",
    "    for process in processes:\n",
    "        process.join()"
   ]
  },
  {
   "cell_type": "markdown",
   "id": "362d4b80-56c7-4066-8fbf-cc7266160475",
   "metadata": {},
   "source": [
    "### \n",
    "    This code creates a list of 4 Process objects, each of which is initialized with a target function (print_number) and an argument (i). The start method is called on each Process object to start a new process for each one. Finally, the join method is called on each Process object to wait for each process to finish.\n",
    "\n",
    "    When the program is run, it will create 4 processes, each of which will print a different number from 0 to 3, in no particular order. The if __name__ == '__main__': block is used to ensure that the code inside is only executed when the program is run as a standalone script, and not when it is imported as a module."
   ]
  },
  {
   "cell_type": "code",
   "execution_count": null,
   "id": "9cd44def-cb4a-49ae-91c9-f0337d0b252f",
   "metadata": {},
   "outputs": [],
   "source": []
  }
 ],
 "metadata": {
  "kernelspec": {
   "display_name": "Python 3 (ipykernel)",
   "language": "python",
   "name": "python3"
  },
  "language_info": {
   "codemirror_mode": {
    "name": "ipython",
    "version": 3
   },
   "file_extension": ".py",
   "mimetype": "text/x-python",
   "name": "python",
   "nbconvert_exporter": "python",
   "pygments_lexer": "ipython3",
   "version": "3.10.8"
  }
 },
 "nbformat": 4,
 "nbformat_minor": 5
}
