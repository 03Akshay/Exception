{
 "cells": [
  {
   "cell_type": "markdown",
   "id": "b5b6a37d-bc07-4793-8eb5-e6f876c45f2d",
   "metadata": {},
   "source": [
    "# Assignment"
   ]
  },
  {
   "cell_type": "markdown",
   "id": "69eb800b-9ee0-49a0-a121-e5194939e91e",
   "metadata": {},
   "source": [
    "# 1.What is Flask Framework? What are the advantages of Flask Framework?"
   ]
  },
  {
   "cell_type": "markdown",
   "id": "72c044e2-50f9-4e35-8076-59d48dcff2c9",
   "metadata": {},
   "source": [
    "###\n",
    "Flask is a lightweight web application framework for Python. It is designed to be simple and easy to use, while still providing the flexibility and power that developers need to build robust web applications.\n",
    "\n",
    "Some advantages of using Flask Framework are:\n",
    "\n",
    "1. Lightweight: Flask is a lightweight framework and has a small footprint. This makes it easy to learn and use, and also makes it fast and efficient.\n",
    "\n",
    "2. Flexibility: Flask is very flexible and allows developers to easily customize and extend the framework to suit their specific needs. It does not impose any particular project structure or database architecture.\n",
    "\n",
    "3. Extensible: Flask provides a wide range of extensions and libraries that can be used to add functionality to your application. These extensions cover a wide range of areas, such as authentication, database connectivity, caching, and more.\n",
    "\n",
    "4. Easy to learn: Flask has a simple and intuitive API that is easy to learn and understand. This makes it a great choice for beginners who want to get started with web development.\n",
    "\n",
    "5. Large community: Flask has a large and active community of developers who contribute to the framework and provide support to each other. This means that there are plenty of resources available for learning and troubleshooting.\n",
    "\n",
    "6. Scalable: Flask is scalable and can be used to build small, simple applications or large, complex ones. It provides features that help developers to manage and scale their applications as they grow.\n",
    "\n",
    "Overall, Flask is a powerful and versatile framework that can be used to build a wide range of web applications, from simple prototypes to complex enterprise systems."
   ]
  },
  {
   "cell_type": "markdown",
   "id": "28306fc7-a664-4de5-8400-e1756a92a9b3",
   "metadata": {},
   "source": [
    "## 2.Create a simple Flask application to display ‘Hello World!!’. Attach the screenshot of the output in Jupyter Notebook."
   ]
  },
  {
   "cell_type": "markdown",
   "id": "55d8ac79-8ba5-4d72-8b4c-b03cbd4ff242",
   "metadata": {},
   "source": [
    "### First we should install the flask in order to get the output."
   ]
  },
  {
   "cell_type": "code",
   "execution_count": 2,
   "id": "13351aeb-c469-4e35-a8a7-84655cb50a55",
   "metadata": {},
   "outputs": [
    {
     "name": "stdout",
     "output_type": "stream",
     "text": [
      "Collecting flask\n",
      "  Downloading Flask-2.2.3-py3-none-any.whl (101 kB)\n",
      "\u001b[2K     \u001b[90m━━━━━━━━━━━━━━━━━━━━━━━━━━━━━━━━━━━━━━━\u001b[0m \u001b[32m101.8/101.8 kB\u001b[0m \u001b[31m1.1 MB/s\u001b[0m eta \u001b[36m0:00:00\u001b[0ma \u001b[36m0:00:01\u001b[0m\n",
      "\u001b[?25hRequirement already satisfied: Jinja2>=3.0 in /opt/conda/lib/python3.10/site-packages (from flask) (3.1.2)\n",
      "Collecting Werkzeug>=2.2.2\n",
      "  Downloading Werkzeug-2.2.3-py3-none-any.whl (233 kB)\n",
      "\u001b[2K     \u001b[90m━━━━━━━━━━━━━━━━━━━━━━━━━━━━━━━━━━━━━━━\u001b[0m \u001b[32m233.6/233.6 kB\u001b[0m \u001b[31m3.8 MB/s\u001b[0m eta \u001b[36m0:00:00\u001b[0ma \u001b[36m0:00:01\u001b[0m\n",
      "\u001b[?25hRequirement already satisfied: click>=8.0 in /opt/conda/lib/python3.10/site-packages (from flask) (8.1.3)\n",
      "Collecting itsdangerous>=2.0\n",
      "  Downloading itsdangerous-2.1.2-py3-none-any.whl (15 kB)\n",
      "Requirement already satisfied: MarkupSafe>=2.0 in /opt/conda/lib/python3.10/site-packages (from Jinja2>=3.0->flask) (2.1.1)\n",
      "Installing collected packages: Werkzeug, itsdangerous, flask\n",
      "Successfully installed Werkzeug-2.2.3 flask-2.2.3 itsdangerous-2.1.2\n",
      "Note: you may need to restart the kernel to use updated packages.\n"
     ]
    }
   ],
   "source": [
    "pip install flask"
   ]
  },
  {
   "cell_type": "code",
   "execution_count": null,
   "id": "6a503f38-adb3-42ec-96d2-0336a3825f5e",
   "metadata": {},
   "outputs": [],
   "source": [
    "from flask import Flask\n",
    "\n",
    "app = Flask(__name__)\n",
    "\n",
    "@app.route('/')\n",
    "def hello_world():\n",
    "    return 'Hello World!!'\n",
    "\n",
    "if __name__ == '__main__':\n",
    "    app.run()"
   ]
  },
  {
   "cell_type": "markdown",
   "id": "d51f4e66-4d12-4f73-9bf1-ce17ef611716",
   "metadata": {},
   "source": [
    "### After that we should browse the http://localhost:5000 this in the browser then we will get the output as the Hello World!! in the url"
   ]
  },
  {
   "cell_type": "markdown",
   "id": "dbf53ab0-69c6-4f96-aad9-f9f3db64bda9",
   "metadata": {},
   "source": [
    "# 3.What is App routing in Flask? Why do we use app routes?"
   ]
  },
  {
   "cell_type": "markdown",
   "id": "25fdbf47-451f-4f59-bfb8-a45431d13b2e",
   "metadata": {},
   "source": [
    "###\n",
    "In Flask, App routing is the process of defining URLs or routes that map to specific functions in your Flask application. When a user makes a request to a particular URL or route, Flask will call the associated function and return the result as an HTTP response.\n",
    "\n",
    "Routes in Flask are defined using the @app.route() decorator. The @app.route() decorator is used to define a URL route and the function that should be called when the route is accessed.\n",
    "\n",
    "For example, consider the following Flask application:"
   ]
  },
  {
   "cell_type": "code",
   "execution_count": null,
   "id": "66270622-6605-4854-92ac-1ab48f47da87",
   "metadata": {},
   "outputs": [],
   "source": [
    "from flask import Flask\n",
    "\n",
    "app = Flask(__name__)\n",
    "\n",
    "@app.route('/')\n",
    "def hello_world():\n",
    "    return 'Hello, World!'\n",
    "\n",
    "@app.route('/about')\n",
    "def about():\n",
    "    return 'This is the about page.'\n",
    "\n",
    "if __name__ == '__main__':\n",
    "    app.run()"
   ]
  },
  {
   "cell_type": "markdown",
   "id": "189a0ffa-60e3-4d18-a3b4-102843b9f9f2",
   "metadata": {},
   "source": [
    "###\n",
    "In this application, there are two routes defined using the @app.route() decorator. The first route is mapped to the root URL of the application (/), and the second route is mapped to the URL /about. When a user visits the root URL of the application, the hello_world() function will be called and will return the string 'Hello, World!'. When a user visits the URL /about, the about() function will be called and will return the string 'This is the about page.'.\n",
    "\n",
    "We use app routes in Flask to define the URLs that our application should respond to. By defining app routes, we can map specific URLs to the functions that should handle them, and thus define the behavior of our web application. App routes allow us to create a clean and organized URL structure for our application, making it easier to navigate and understand. They also allow us to create different pages or endpoints for different parts of our application, making it easier to manage and maintain the code."
   ]
  },
  {
   "cell_type": "markdown",
   "id": "896b2715-c03b-43ce-af83-4817039d3c93",
   "metadata": {},
   "source": [
    "## 4.Create a “/welcome” route to display the welcome message “Welcome to ABC Corporation” and a “/”\n",
    "      route to show the following details:\n",
    "      Company Name: ABC Corporation\n",
    "      Location: India\n",
    "      Contact Detail: 999-999-9999"
   ]
  },
  {
   "cell_type": "markdown",
   "id": "400a024a-2227-4a6d-a7b1-f9e8c0bfc6e2",
   "metadata": {},
   "source": [
    "## First we should install the flask in order to get the output."
   ]
  },
  {
   "cell_type": "code",
   "execution_count": 1,
   "id": "c08c928c-fd14-4d04-9683-1144c55e9776",
   "metadata": {},
   "outputs": [
    {
     "name": "stdout",
     "output_type": "stream",
     "text": [
      "Collecting flask\n",
      "  Downloading Flask-2.2.3-py3-none-any.whl (101 kB)\n",
      "\u001b[2K     \u001b[90m━━━━━━━━━━━━━━━━━━━━━━━━━━━━━━━━━━━━━━━\u001b[0m \u001b[32m101.8/101.8 kB\u001b[0m \u001b[31m1.2 MB/s\u001b[0m eta \u001b[36m0:00:00\u001b[0ma \u001b[36m0:00:01\u001b[0m\n",
      "\u001b[?25hCollecting Werkzeug>=2.2.2\n",
      "  Downloading Werkzeug-2.2.3-py3-none-any.whl (233 kB)\n",
      "\u001b[2K     \u001b[90m━━━━━━━━━━━━━━━━━━━━━━━━━━━━━━━━━━━━━━━\u001b[0m \u001b[32m233.6/233.6 kB\u001b[0m \u001b[31m3.8 MB/s\u001b[0m eta \u001b[36m0:00:00\u001b[0ma \u001b[36m0:00:01\u001b[0m\n",
      "\u001b[?25hRequirement already satisfied: Jinja2>=3.0 in /opt/conda/lib/python3.10/site-packages (from flask) (3.1.2)\n",
      "Collecting itsdangerous>=2.0\n",
      "  Downloading itsdangerous-2.1.2-py3-none-any.whl (15 kB)\n",
      "Requirement already satisfied: click>=8.0 in /opt/conda/lib/python3.10/site-packages (from flask) (8.1.3)\n",
      "Requirement already satisfied: MarkupSafe>=2.0 in /opt/conda/lib/python3.10/site-packages (from Jinja2>=3.0->flask) (2.1.1)\n",
      "Installing collected packages: Werkzeug, itsdangerous, flask\n",
      "Successfully installed Werkzeug-2.2.3 flask-2.2.3 itsdangerous-2.1.2\n",
      "Note: you may need to restart the kernel to use updated packages.\n"
     ]
    }
   ],
   "source": [
    "pip install flask"
   ]
  },
  {
   "cell_type": "code",
   "execution_count": null,
   "id": "e9020538-a420-40cd-acae-452e41124b86",
   "metadata": {},
   "outputs": [],
   "source": [
    "const_express = require('express');\n",
    "const_app = express();\n",
    "\n",
    "// Welcome route\n",
    "app.get('/welcome', (req, res) => {\n",
    "  res.send('Welcome to ABC Corporation');\n",
    "});\n",
    "\n",
    "// Details route\n",
    "app.get('/', (req, res) => {\n",
    "  const_companyDetails = {\n",
    "    companyName: 'ABC Corporation',\n",
    "    location: 'India',\n",
    "    contactDetail: '999-999-9999'\n",
    "  };\n",
    "  res.json(companyDetails);\n",
    "});\n",
    "\n",
    "// Start the server\n",
    "app.listen(3000, () => {\n",
    "  console.log('Server started on port 3000');\n",
    "});"
   ]
  },
  {
   "cell_type": "markdown",
   "id": "a1fb088e-4277-40d4-940f-0415e5869b63",
   "metadata": {},
   "source": [
    "### After that we should browse the http://localhost:5000 this in the browser then we will get the output as the Hello World!! in the url"
   ]
  },
  {
   "cell_type": "markdown",
   "id": "e8c45aa7-cb66-4923-b464-f9cdc343cf9d",
   "metadata": {},
   "source": [
    "# 5.What function is used in Flask for URL Building? Write a Python code to demonstrate the working of the url_for() function."
   ]
  },
  {
   "cell_type": "markdown",
   "id": "a2e90d5f-27a1-4a4e-9722-153ff1b4da6e",
   "metadata": {},
   "source": [
    "###\n",
    "In Flask, the url_for() function is used for URL building. This function generates a URL for a given view function. It takes the name of the view function as the first argument and any arguments necessary to generate the URL.\n",
    "\n",
    "Here's an example Python code that demonstrates the working of the url_for() function in Flask:"
   ]
  },
  {
   "cell_type": "code",
   "execution_count": null,
   "id": "cc6f7c09-43d6-49b5-8407-b96dcdabfc02",
   "metadata": {},
   "outputs": [],
   "source": [
    "from flask import Flask, url_for\n",
    "\n",
    "app = Flask(__name__)\n",
    "\n",
    "@app.route('/')\n",
    "def home():\n",
    "    return 'Welcome to my website'\n",
    "\n",
    "@app.route('/contact')\n",
    "def contact():\n",
    "    return 'Contact us at: 123-456-7890'\n",
    "\n",
    "@app.route('/user/<username>')\n",
    "def user(username):\n",
    "    return f'Hello, {username}'\n",
    "\n",
    "@app.route('/about')\n",
    "def about():\n",
    "    home_url = url_for('home')\n",
    "    contact_url = url_for('contact')\n",
    "    user_url = url_for('user', username='john')\n",
    "    return f'This is the about page. Visit the following pages: <br> {home_url} <br> {contact_url} <br> {user_url}'\n",
    "\n",
    "if __name__ == '__main__':\n",
    "    app.run()"
   ]
  },
  {
   "cell_type": "markdown",
   "id": "eecd60f3-b0f8-4572-bf6a-874782dad74e",
   "metadata": {},
   "source": [
    "###\n",
    "In this example, we have defined four routes using the @app.route decorator. The about() function uses the url_for() function to generate URLs for the home, contact, and user pages. The generated URLs are then displayed in the response.\n",
    "\n",
    "When we run this code and navigate to the '/about' route, we get a response that displays the URLs for the home, contact, and user pages. The URLs are generated using the url_for() function and include any necessary arguments."
   ]
  },
  {
   "cell_type": "code",
   "execution_count": null,
   "id": "4a0f7244-d1be-44f1-aace-59784b2e7504",
   "metadata": {},
   "outputs": [],
   "source": []
  }
 ],
 "metadata": {
  "kernelspec": {
   "display_name": "Python 3 (ipykernel)",
   "language": "python",
   "name": "python3"
  },
  "language_info": {
   "codemirror_mode": {
    "name": "ipython",
    "version": 3
   },
   "file_extension": ".py",
   "mimetype": "text/x-python",
   "name": "python",
   "nbconvert_exporter": "python",
   "pygments_lexer": "ipython3",
   "version": "3.10.8"
  }
 },
 "nbformat": 4,
 "nbformat_minor": 5
}
