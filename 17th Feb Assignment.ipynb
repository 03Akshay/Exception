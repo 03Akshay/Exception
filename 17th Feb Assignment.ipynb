{
 "cells": [
  {
   "cell_type": "markdown",
   "id": "114f1c56-d346-497c-b6b9-793dbf00ce5d",
   "metadata": {},
   "source": [
    "# Assignment"
   ]
  },
  {
   "cell_type": "markdown",
   "id": "e0d82bb1-00ad-4e34-a69f-0a8535d6c3c9",
   "metadata": {},
   "source": [
    "# 1.What is MongoDB? Explain non-relational databases in short. In which scenarios it is preferred to use MongoDB over SQL databases?"
   ]
  },
  {
   "cell_type": "markdown",
   "id": "7fa30bcd-ae2f-44f0-bd46-bea47b3e14e5",
   "metadata": {},
   "source": [
    "###\n",
    "MongoDB is a popular document-oriented NoSQL database that allows you to store and manipulate data in a flexible and scalable way. It is designed to handle large volumes of data with high performance, and is particularly well-suited for web applications and other use cases that require fast and flexible access to data.\n",
    "\n",
    "Non-relational databases, also known as NoSQL databases, are databases that do not use the traditional table-based relational database model. Instead, they use various data models, such as document-based, key-value, or graph-based, to store and manage data. NoSQL databases are known for their flexibility, scalability, and performance, and they are often used in situations where traditional SQL databases are not well-suited, such as big data and real-time applications.\n",
    "\n",
    "MongoDB is preferred over SQL databases in a number of scenarios, including:\n",
    "\n",
    "1. When you have large amounts of unstructured or semi-structured data, such as JSON documents, that do not fit neatly into the rows and columns of a relational database.\n",
    "\n",
    "2. When you need to store and access data in a highly scalable and flexible manner, such as in web applications that require rapid development and deployment of new features.\n",
    "\n",
    "3. When you need to work with data in real-time, such as in real-time analytics or data processing applications.\n",
    "\n",
    "4. When you need to handle a large number of concurrent users or requests, as MongoDB is designed to handle high volumes of traffic and requests.\n",
    "\n",
    "Overall, MongoDB is a powerful and flexible NoSQL database that is well-suited for many modern application use cases, particularly those that require high performance and scalability."
   ]
  },
  {
   "cell_type": "markdown",
   "id": "f1709e53-0a95-4159-b133-9d2f429969b8",
   "metadata": {},
   "source": [
    "# 2.State and Explain the features of MongoDB."
   ]
  },
  {
   "cell_type": "markdown",
   "id": "b98f2f24-9bdb-480d-9ebf-67062c8c7ec8",
   "metadata": {},
   "source": [
    "###\n",
    "MongoDB is a popular NoSQL document-oriented database that offers a number of features and capabilities. Here are some of the key features of MongoDB:\n",
    "\n",
    "1. Document-Oriented: MongoDB is a document-oriented database, which means it stores data in flexible, JSON-like documents. This makes it well-suited for applications with highly variable or unstructured data, such as social media, e-commerce, or content management systems.\n",
    "\n",
    "2. Flexible Schema: MongoDB allows you to store data without a predefined schema, which means you can change the structure of your data as your application evolves. This makes it easy to add or remove fields, or change data types, without having to worry about complex migrations.\n",
    "\n",
    "3. High Scalability: MongoDB is highly scalable, and can handle large volumes of data and traffic. It can be distributed across multiple servers or data centers, and can support automatic sharding and replication.\n",
    "\n",
    "4. Indexing: MongoDB supports a range of indexing options, including multi-key, text, and geospatial indexes. This makes it easy to search and retrieve data quickly and efficiently.\n",
    "\n",
    "5. Aggregation Framework: MongoDB includes a powerful aggregation framework that allows you to analyze and process data in a variety of ways. This includes grouping, sorting, filtering, and other operations that are commonly used in analytics and reporting.\n",
    "\n",
    "6. Ad Hoc Queries: MongoDB supports ad hoc queries, which means you can query your data in a variety of ways without having to predefine the query in advance. This makes it easy to explore and analyze your data in real-time.\n",
    "\n",
    "Overall, MongoDB offers a powerful and flexible set of features that are well-suited for modern application development and data management needs. Its flexible schema, scalability, indexing, and aggregation capabilities make it a popular choice for a wide range of use cases, from e-commerce and social media to big data analytics and real-time data processing."
   ]
  },
  {
   "cell_type": "markdown",
   "id": "02980485-d2cc-4ea0-a191-0ed43ff12d01",
   "metadata": {},
   "source": [
    "# 3.Write a code to connect MongoDB to Python. Also, create a database and a collection in MongoDB."
   ]
  },
  {
   "cell_type": "code",
   "execution_count": null,
   "id": "ca20a6ad-cec8-43b3-b070-667b09093dfd",
   "metadata": {},
   "outputs": [],
   "source": [
    "import pymongo\n",
    "\n",
    "connection_string = \"mongodb+srv://<username>:<password>@<cluster-url>/test?retryWrites=true&w=majority\"\n",
    "\n",
    "client = pymongo.MongoClient(connection_string)\n",
    "\n",
    "mydb = client[\"mydatabase\"]\n",
    "\n",
    "mycollection = mydb[\"mycollection\"]\n",
    "\n",
    "mydocument = {\"name\": \"rudra\", \"address\": \"mumbai 37/B\"}\n",
    "x = mycollection.insert_one(mydocument)\n",
    "\n",
    "print(x.inserted_id)"
   ]
  },
  {
   "cell_type": "markdown",
   "id": "13d92a48-8a58-45fe-9bc6-4d2aea26dae8",
   "metadata": {},
   "source": [
    "###\n",
    "In this code, we first import the pymongo module, which is a Python driver for MongoDB. We then replace the connection_string variable with the connection string for our MongoDB Atlas instance.\n",
    "\n",
    "We then create a MongoClient object with the connection string, which establishes a connection to the MongoDB instance. We use the client object to create a new database called \"mydatabase\" and a new collection called \"mycollection\".\n",
    "\n",
    "We then create a new document called mydocument, which is a Python dictionary that represents a JSON-like document. We use the insert_one() method of the mycollection object to insert the document into the collection, and we print the ID of the inserted document."
   ]
  },
  {
   "cell_type": "markdown",
   "id": "e0bc000c-d818-4a65-bcff-1d84d89af863",
   "metadata": {},
   "source": [
    "# 4.Using the database and the collection created in question number 3, write a code to insert one record, and insert many records. Use the find() and find_one() methods to print the inserted record."
   ]
  },
  {
   "cell_type": "code",
   "execution_count": null,
   "id": "41ca07fd-c705-4687-91c6-5da177445654",
   "metadata": {},
   "outputs": [],
   "source": [
    "import pymongo\n",
    "\n",
    "connection_string = \"mongodb+srv://<username>:<password>@<cluster-url>/test?retryWrites=true&w=majority\"\n",
    "\n",
    "client = pymongo.MongoClient(connection_string)\n",
    "\n",
    "mydb = client[\"mydatabase\"]\n",
    "\n",
    "mycollection = mydb[\"mycollection\"]\n",
    "\n",
    "record = {\"name\": \"Rudra\", \"age\": 28, \"city\": \"Mumbai\"}\n",
    "inserted_record = mycollection.insert_one(record)\n",
    "\n",
    "print(\"Inserted record ID:\", inserted_record.inserted_id)\n",
    "\n",
    "records = [\n",
    "    {\"name\": \"Dittu\", \"age\": 30, \"city\": \"Benguluru\"},\n",
    "    {\"name\": \"Chintu\", \"age\": 35, \"city\": \"Hyderabad\"},\n",
    "    {\"name\": \"Bunny\", \"age\": 40, \"city\": \"Pune\"},\n",
    "]\n",
    "inserted_records = mycollection.insert_many(records)\n",
    "\n",
    "print(\"Inserted record IDs:\", inserted_records.inserted_ids)\n",
    "\n",
    "first_record = mycollection.find_one({\"_id\": inserted_record.inserted_id})\n",
    "print(\"First inserted record:\", first_record)\n",
    "\n",
    "all_records = mycollection.find()\n",
    "print(\"All inserted records:\")\n",
    "for record in all_records:\n",
    "    print(record)\n"
   ]
  },
  {
   "cell_type": "markdown",
   "id": "7fb4ff17-914c-4331-b5ce-4bd3d76270e2",
   "metadata": {},
   "source": [
    "# 5.Explain how you can use the find() method to query the MongoDB database. Write a simple code to demonstrate this."
   ]
  },
  {
   "cell_type": "markdown",
   "id": "8019d9e9-1cdd-47d2-8dfc-d7c3d6d0b029",
   "metadata": {},
   "source": [
    "###\n",
    "The find() method in MongoDB is used to query the database for documents that match a certain set of criteria. The find() method returns a cursor that can be used to iterate over the matching documents.\n",
    "\n",
    "The find() method takes an optional argument that specifies the query criteria, which is a document that specifies the fields to match. The criteria document is usually specified as a Python dictionary. For example, to find all documents in a collection where the \"city\" field is \"New York\", we could use the following query:"
   ]
  },
  {
   "cell_type": "code",
   "execution_count": null,
   "id": "9ca8b0c7-0eba-4bd9-a4ab-a5fdfb247e72",
   "metadata": {},
   "outputs": [],
   "source": [
    "query = {\"city\": \"New York\"}\n",
    "cursor = mycollection.find(query)"
   ]
  },
  {
   "cell_type": "code",
   "execution_count": null,
   "id": "63ee39ea-4573-428c-afbf-a74b4162b351",
   "metadata": {},
   "outputs": [],
   "source": [
    "import pymongo\n",
    "\n",
    "connection_string = \"mongodb+srv://<username>:<password>@<cluster-url>/test?retryWrites=true&w=majority\"\n",
    "\n",
    "client = pymongo.MongoClient(connection_string)\n",
    "\n",
    "mydb = client[\"mydatabase\"]\n",
    "mycollection = mydb[\"mycollection\"]\n",
    "\n",
    "mycollection.insert_many([\n",
    "    {\"name\": \"Ramesh\", \"age\": 25, \"city\": \"New York\"},\n",
    "    {\"name\": \"Suresh\", \"age\": 30, \"city\": \"London\"},\n",
    "    {\"name\": \"Naresh\", \"age\": 35, \"city\": \"Paris\"},\n",
    "    {\"name\": \"Mahesh\", \"age\": 40, \"city\": \"Tokyo\"}\n",
    "])\n",
    "\n",
    "query = {\"age\": {\"$gte\": 30}}\n",
    "cursor = mycollection.find(query)\n",
    "\n",
    "for document in cursor:\n",
    "    print(document)"
   ]
  },
  {
   "cell_type": "markdown",
   "id": "37603498-4ea9-4157-ba4e-99e952f68e9d",
   "metadata": {},
   "source": [
    "###\n",
    "In this code, we first connect to the MongoDB instance and select the \"mydatabase\" database and the \"mycollection\" collection as before. We then insert some sample data into the collection using the insert_many() method.\n",
    "\n",
    "We then use the find() method to query the collection for documents where the \"age\" field is greater than or equal to 30. We specify the query criteria as a dictionary that uses the $gte operator to match documents where the \"age\" field is greater than or equal to 30.\n",
    "\n",
    "We then use a for loop to iterate over the cursor object and print each matching document. The output of this code would be all documents where the \"age\" field is greater than or equal to 30."
   ]
  },
  {
   "cell_type": "markdown",
   "id": "e1a754e5-7e8f-4f55-ae22-4f9d146727c3",
   "metadata": {},
   "source": [
    "# 6.Explain the sort() method. Give an example to demonstrate sorting in MongoDB."
   ]
  },
  {
   "cell_type": "markdown",
   "id": "c85907ef-e0fe-4153-8d90-94803f6906bd",
   "metadata": {},
   "source": [
    "###\n",
    "The sort() method is used in MongoDB to sort the results of a query in ascending or descending order based on one or more fields. The sort() method takes a document that specifies the fields to sort on and the direction of the sort (ascending or descending). The document should use field names as keys and the value should be either 1 for ascending order or -1 for descending order.\n",
    "\n",
    "Here's an example to demonstrate sorting in MongoDB. Suppose we have a collection called \"mycollection\" with documents that have fields \"name\", \"age\", and \"city\". We want to sort the documents in descending order based on the \"age\" field. We can do this using the sort() method as follows:"
   ]
  },
  {
   "cell_type": "code",
   "execution_count": null,
   "id": "ce959627-08e3-48be-82ff-ec3f9846b1c3",
   "metadata": {},
   "outputs": [],
   "source": [
    "import pymongo\n",
    "\n",
    "connection_string = \"mongodb+srv://<username>:<password>@<cluster-url>/test?retryWrites=true&w=majority\"\n",
    "\n",
    "client = pymongo.MongoClient(connection_string)\n",
    "\n",
    "mydb = client[\"mydatabase\"]\n",
    "mycollection = mydb[\"mycollection\"]\n",
    "\n",
    "query = {\"city\": \"New York\"}\n",
    "results = mycollection.find(query).sort(\"age\", -1)\n",
    "\n",
    "for result in results:\n",
    "    print(result)"
   ]
  },
  {
   "cell_type": "markdown",
   "id": "d4cabf32-452c-41af-83e1-ceac4657e7b0",
   "metadata": {},
   "source": [
    "###\n",
    "In this example, we first connect to the MongoDB instance and select the \"mydatabase\" database and the \"mycollection\" collection as before. We then use the find() method to query the collection for all documents where the \"city\" field is \"New York\".\n",
    "\n",
    "We then use the sort() method to sort the results in descending order based on the \"age\" field. The sort() method takes the field name \"age\" as the first argument and the value -1 to indicate that the results should be sorted in descending order.\n",
    "\n",
    "We then use a for loop to iterate over the sorted results and print each document. The output of this code would be all documents where the \"city\" field is \"New York\", sorted in descending order based on the \"age\" field."
   ]
  },
  {
   "cell_type": "markdown",
   "id": "5845e1e8-5555-43a2-b9cd-15d8e6dd8a1c",
   "metadata": {},
   "source": [
    "# 7.Explain why delete_one(), delete_many(), and drop() is used."
   ]
  },
  {
   "cell_type": "markdown",
   "id": "36a7afca-10ce-4452-ab11-30f99de0792b",
   "metadata": {},
   "source": [
    "##\n",
    "In MongoDB, delete_one(), delete_many(), and drop() are used to remove documents and collections from a database.\n",
    "\n",
    "1. delete_one(filter) method is used to remove a single document that matches the filter. If multiple documents match the filter, only the first document will be deleted.\n",
    "\n",
    "2. delete_many(filter) method is used to remove all documents that match the filter. If no documents match the filter, nothing will be deleted.\n",
    "\n",
    "3. drop() method is used to remove an entire collection from a database. This will permanently delete all documents in the collection.\n",
    "\n",
    "These methods are useful for managing the contents of a MongoDB database. For example, you may want to delete all documents that match a certain criteria, or remove a collection that is no longer needed. It is important to use caution when deleting documents or collections, as this cannot be undone and may result in data loss. It is recommended to make a backup of the database before performing any deletion operation.\n",
    "\n",
    "Overall, delete_one(), delete_many(), and drop() are used to manage the contents of a MongoDB database and provide flexibility in deleting data."
   ]
  },
  {
   "cell_type": "code",
   "execution_count": null,
   "id": "a91f0d04-7f72-46b5-9bf1-73c9a155e26a",
   "metadata": {},
   "outputs": [],
   "source": []
  }
 ],
 "metadata": {
  "kernelspec": {
   "display_name": "Python 3 (ipykernel)",
   "language": "python",
   "name": "python3"
  },
  "language_info": {
   "codemirror_mode": {
    "name": "ipython",
    "version": 3
   },
   "file_extension": ".py",
   "mimetype": "text/x-python",
   "name": "python",
   "nbconvert_exporter": "python",
   "pygments_lexer": "ipython3",
   "version": "3.10.8"
  }
 },
 "nbformat": 4,
 "nbformat_minor": 5
}
