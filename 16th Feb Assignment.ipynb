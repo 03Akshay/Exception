{
 "cells": [
  {
   "cell_type": "markdown",
   "id": "059e7783-cfe2-407b-a311-02134c7905d8",
   "metadata": {},
   "source": [
    "# Assignment"
   ]
  },
  {
   "cell_type": "markdown",
   "id": "93fef540-59fc-4c03-96f7-a3ff340667ab",
   "metadata": {},
   "source": [
    "## 1.What is a database? Differentiate between SQL and NoSQL databases."
   ]
  },
  {
   "cell_type": "markdown",
   "id": "d2c051cb-a4b3-4ed4-b88e-9fe4e22a8a46",
   "metadata": {},
   "source": [
    "###\n",
    "    A database is a structured collection of data that is stored and organized in a way that allows for efficient retrieval and manipulation of the data. Databases are used in a wide variety of applications, from small-scale personal projects to large-scale enterprise systems.\n",
    "\n",
    "    SQL and NoSQL are two different types of databases that differ in their data models, querying languages, and performance characteristics.\n",
    "\n",
    "    SQL (Structured Query Language) databases are based on the relational model, in which data is organized into tables with rows and columns. SQL databases use a schema to define the structure of the data, and queries are made using SQL, a standard language for accessing and manipulating relational data. SQL databases are well-suited for applications that require complex querying, transactional consistency, and data integrity, such as financial systems, e-commerce sites, and content management systems.\n",
    "\n",
    "    NoSQL (Not Only SQL) databases, on the other hand, are based on non-relational data models, such as document-based, key-value, and graph databases. NoSQL databases are designed to handle large volumes of unstructured or semi-structured data that may not fit neatly into a table, such as JSON or XML documents. NoSQL databases are typically optimized for high availability, scalability, and performance, and are commonly used in applications that require real-time data processing, such as social media, IoT, and gaming."
   ]
  },
  {
   "cell_type": "markdown",
   "id": "43363a3c-bce3-4093-a57e-850e38e32517",
   "metadata": {},
   "source": [
    "###\n",
    "    Here are some key differences between SQL and NoSQL databases:\n",
    "\n",
    "    1.Data Model: SQL databases are based on the relational data model, which organizes data into tables with rows and columns, and enforces strict data consistency and integrity through the use of constraints and transactions. NoSQL databases, on the other hand, use a variety of non-relational data models, such as document-based, key-value, and graph, which are designed to handle unstructured or semi-structured data with flexible schemas.\n",
    "\n",
    "    2.Querying Language: SQL databases use the SQL language to query and manipulate data, which is a declarative language that allows for complex joins, subqueries, and aggregation. NoSQL databases typically use their own query languages, which are often based on simple key-value lookups or document queries, and may not support complex querying.\n",
    "\n",
    "    3.Scalability and Performance: NoSQL databases are often designed to be horizontally scalable, meaning that they can be distributed across multiple nodes to handle large volumes of data and high traffic loads. SQL databases can also be scaled horizontally, but often require more effort and expertise to set up. NoSQL databases are generally designed to have high performance for specific types of queries or workloads, such as document retrieval or key-value lookups.\n",
    "\n",
    "    4.Data Consistency and Integrity: SQL databases are designed to enforce strict data consistency and integrity through the use of transactions, constraints, and other mechanisms that ensure that data is accurate and reliable. NoSQL databases may sacrifice some degree of consistency or durability for increased performance and scalability, and often rely on eventual consistency or other techniques to ensure data integrity."
   ]
  },
  {
   "cell_type": "markdown",
   "id": "23bd171f-6ca7-4830-a8dc-f74499ff887c",
   "metadata": {},
   "source": [
    "## 2.What is DDL? Explain why CREATE, DROP, ALTER, and TRUNCATE are used with an example."
   ]
  },
  {
   "cell_type": "markdown",
   "id": "a8163696-0f60-484e-a2ef-74ae7c65e866",
   "metadata": {},
   "source": [
    "### \n",
    "      DDL stands for Data Definition Language, which is a subset of SQL used to define and manage the structure of a database. DDL statements are used to create, modify, and delete database objects such as tables, indexes, and constraints. Here are some common DDL statements and their uses:\n",
    "\n",
    "    1.CREATE: The CREATE statement is used to create new database objects, such as tables, indexes, and constraints. For example, the following SQL statement creates a new table called customers with three columns (id, name, and email):"
   ]
  },
  {
   "cell_type": "code",
   "execution_count": null,
   "id": "7f1efee7-54f1-4b77-963c-b8be77c9bea6",
   "metadata": {},
   "outputs": [],
   "source": [
    "CREATE TABLE customers (\n",
    "    id INT PRIMARY KEY,\n",
    "    name VARCHAR(50),\n",
    "    email VARCHAR(50)\n",
    ");"
   ]
  },
  {
   "cell_type": "markdown",
   "id": "851b78a3-9709-4e33-b91b-7c3b239cc174",
   "metadata": {},
   "source": [
    "### 2.DROP: The DROP statement is used to delete existing database objects, such as tables, indexes, and constraints. For example, the following SQL statement drops the customers table:"
   ]
  },
  {
   "cell_type": "markdown",
   "id": "78789930-719c-43b7-aae2-d8c818994d19",
   "metadata": {},
   "source": [
    "###  DROP TABLE customers;"
   ]
  },
  {
   "cell_type": "markdown",
   "id": "f775f03f-677c-496c-a56a-5456721d40fc",
   "metadata": {},
   "source": [
    "### 3.ALTER: The ALTER statement is used to modify the structure of existing database objects, such as tables and columns. For example, the following SQL statement adds a new column called phone to the customers table:"
   ]
  },
  {
   "cell_type": "markdown",
   "id": "6887b7fa-bd0b-4652-883c-1c4289bdad53",
   "metadata": {},
   "source": [
    "## ALTER TABLE customers ADD phone VARCHAR(20);"
   ]
  },
  {
   "cell_type": "markdown",
   "id": "10b24019-579e-4256-84c8-1bb753d992cd",
   "metadata": {},
   "source": [
    "### 4.TRUNCATE: The TRUNCATE statement is used to delete all the data from a table, while preserving its structure. For example, the following SQL statement deletes all the data from the customers table:"
   ]
  },
  {
   "cell_type": "markdown",
   "id": "e5807578-3ea4-434c-930f-aafe3bf0af8f",
   "metadata": {},
   "source": [
    "### TRUNCATE TABLE customers;"
   ]
  },
  {
   "cell_type": "markdown",
   "id": "7f0411bb-25b0-45a0-ba8a-0e0a2704b886",
   "metadata": {},
   "source": [
    "### In summary, DDL statements are used to define and manage the structure of a database, including creating, modifying, and deleting database objects such as tables, indexes, and constraints. The CREATE statement is used to create new objects, the DROP statement is used to delete existing objects, the ALTER statement is used to modify existing objects, and the TRUNCATE statement is used to delete all the data from a table while preserving its structure."
   ]
  },
  {
   "cell_type": "markdown",
   "id": "2a40bf55-6e6e-49cb-a92e-782d9ba14bf7",
   "metadata": {},
   "source": [
    "## 3.What is DML? Explain INSERT, UPDATE, and DELETE with an example."
   ]
  },
  {
   "cell_type": "markdown",
   "id": "d2229cca-8a33-4103-93d3-d31635c6a236",
   "metadata": {},
   "source": [
    "### DML stands for Data Manipulation Language, which is a subset of SQL used to insert, update, and delete data in a database. Here are some common DML statements and their uses:\n",
    "\n",
    "    1.INSERT: The INSERT statement is used to insert new data into a table. For example, the following SQL statement inserts a new record into the customers table:"
   ]
  },
  {
   "cell_type": "code",
   "execution_count": null,
   "id": "c86ecb8b-7d95-488c-9d14-3075468527c0",
   "metadata": {},
   "outputs": [],
   "source": [
    "INSERT INTO customers (id, name, email) VALUES (1, 'John Doe', 'johndoe@example.com');"
   ]
  },
  {
   "cell_type": "markdown",
   "id": "69d6117f-d638-4b1e-b776-b7381a6d9577",
   "metadata": {},
   "source": [
    "### 2.UPDATE: The UPDATE statement is used to modify existing data in a table. For example, the following SQL statement updates the email address for the customer with an id of 1:"
   ]
  },
  {
   "cell_type": "code",
   "execution_count": null,
   "id": "a6dc2331-f44b-449a-9901-c639f487033e",
   "metadata": {},
   "outputs": [],
   "source": [
    "UPDATE customers SET email = 'johndoe123@example.com' WHERE id = 1;"
   ]
  },
  {
   "cell_type": "markdown",
   "id": "8500c2ff-9955-4ea9-b3b6-0d01284376b7",
   "metadata": {},
   "source": [
    "### 3.DELETE: The DELETE statement is used to delete data from a table. For example, the following SQL statement deletes the record for the customer with an id of 1:"
   ]
  },
  {
   "cell_type": "code",
   "execution_count": null,
   "id": "cdbead89-1c49-4895-b053-cd7f6878bda9",
   "metadata": {},
   "outputs": [],
   "source": [
    "DELETE FROM customers WHERE id = 1;"
   ]
  },
  {
   "cell_type": "markdown",
   "id": "96982b0b-1599-4432-877b-9229677b122a",
   "metadata": {},
   "source": [
    "### In summary, DML statements are used to manipulate data in a database, including inserting new data with the INSERT statement, modifying existing data with the UPDATE statement, and deleting data with the DELETE statement. Each statement is used in a different way, but they all serve the purpose of manipulating the data stored in a database."
   ]
  },
  {
   "cell_type": "markdown",
   "id": "2704b062-3242-455d-a109-06166c7e734b",
   "metadata": {},
   "source": [
    "# 4.What is DQL? Explain SELECT with an example."
   ]
  },
  {
   "cell_type": "markdown",
   "id": "b56b71e7-829a-424c-9434-bbbb0709eea5",
   "metadata": {},
   "source": [
    "### DQL stands for Data Query Language, which is a subset of SQL used to retrieve and query data from a database. The most common DQL statement is the SELECT statement, which is used to retrieve data from one or more tables in a database. Here is an example of a SELECT statement:\n",
    "\n",
    "    Suppose we have a table named employees with the following columns: id, name, email, salary, and department. To retrieve all the employees in the sales department with a salary greater than 50000, we can use the following SQL statement:"
   ]
  },
  {
   "cell_type": "code",
   "execution_count": null,
   "id": "acc1aec5-fc44-42d8-bbb6-a9d201987132",
   "metadata": {},
   "outputs": [],
   "source": [
    "SELECT * FROM employees WHERE department = 'sales' AND salary > 50000;"
   ]
  },
  {
   "cell_type": "markdown",
   "id": "961f3f6d-bb9f-45d4-be9b-d212d0a11580",
   "metadata": {},
   "source": [
    "### \n",
    "    This statement will retrieve all the columns for all the employees in the sales department with a salary greater than 50000. The * wildcard character is used to select all columns from the table. We then specify the table we want to select from (employees), and use the WHERE clause to filter the results based on our criteria.\n",
    "\n",
    "    We can also select specific columns from the table using the SELECT statement. For example, to retrieve only the name and email columns for all employees in the sales department with a salary greater than 50000, we can use the following SQL statement:"
   ]
  },
  {
   "cell_type": "code",
   "execution_count": null,
   "id": "26f35943-1018-4775-b228-253b8d1b58bf",
   "metadata": {},
   "outputs": [],
   "source": [
    "SELECT name, email FROM employees WHERE department = 'sales' AND salary > 50000;"
   ]
  },
  {
   "cell_type": "markdown",
   "id": "801f7014-9f25-4f4a-a4a8-0a38f5a99047",
   "metadata": {},
   "source": [
    "###\n",
    "    This statement will only retrieve the name and email columns for all employees in the sales department with a salary greater than 50000.\n",
    "\n",
    "    In summary, the SELECT statement is used to retrieve data from one or more tables in a database. It allows you to select all columns using the * wildcard character, or specific columns by name. You can also use the WHERE clause to filter the results based on your criteria."
   ]
  },
  {
   "cell_type": "markdown",
   "id": "f01bb9e5-8a5b-427d-aa7c-43584f67895f",
   "metadata": {},
   "source": [
    "# 5.Explain Primary Key and Foreign Key."
   ]
  },
  {
   "cell_type": "markdown",
   "id": "7cd1c8f5-2e19-4deb-a08b-8d4243a4d760",
   "metadata": {},
   "source": [
    "###\n",
    "      In a relational database, a primary key and a foreign key are used to define the relationships between tables. Here is an explanation of each:\n",
    "\n",
    "    1.Primary Key: A primary key is a column or group of columns in a table that uniquely identifies each row in the table. It is used to enforce data integrity and ensure that each row in the table is unique. A primary key cannot contain null values and must be unique for each row in the table. Typically, a primary key is defined when the table is created using the CREATE TABLE statement. For example, in a table of employees, the id column could be defined as the primary key, as each employee would have a unique id value.\n",
    "\n",
    "    2.Foreign Key: A foreign key is a column or group of columns in a table that refers to the primary key of another table. It is used to create a relationship between two tables, and to enforce referential integrity between them. A foreign key must match the data type and format of the primary key it references, and it must be unique for each row in the table. For example, in a table of orders, the customer_id column could be defined as a foreign key, as it refers to the id column in the customers table."
   ]
  },
  {
   "cell_type": "markdown",
   "id": "452b393a-04e5-4fa5-8941-0c3f527f5904",
   "metadata": {},
   "source": [
    "## 6.Write a python code to connect MySQL to python. Explain the cursor() and execute() method."
   ]
  },
  {
   "cell_type": "code",
   "execution_count": null,
   "id": "38156302-3cdc-4373-8694-b64bf5bad1f5",
   "metadata": {},
   "outputs": [],
   "source": [
    "import mysql.connector\n",
    "\n",
    "# establish a connection\n",
    "mydb = mysql.connector.connect(\n",
    "  host=\"localhost\",\n",
    "  user=\"rudra\",\n",
    "  password=\"password\",\n",
    ")\n",
    "\n",
    "# create a cursor object\n",
    "mycursor = mydb.cursor()\n",
    "\n",
    "# execute a query\n",
    "mycursor.execute(\"SELECT * FROM customers\")\n",
    "\n",
    "# fetch the results\n",
    "result = mycursor.fetchall()\n",
    "\n",
    "# print the results\n",
    "for row in result:\n",
    "  print(row)"
   ]
  },
  {
   "cell_type": "markdown",
   "id": "9c79357d-4f82-4622-bced-a9dd63efbf45",
   "metadata": {},
   "source": [
    "###\n",
    "     In this example, we first establish a connection to the MySQL database using the connect() method from the mysql.connector library. We specify the host, username, password, and database name as parameters to the method.\n",
    "\n",
    "    Next, we create a cursor object using the cursor() method on the connection object. The cursor object allows us to execute queries and fetch results from the database.\n",
    "\n",
    "    We then execute a query using the execute() method on the cursor object. In this case, we execute a SELECT statement to retrieve all the rows from the customers table.\n",
    "\n",
    "    Finally, we fetch the results using the fetchall() method on the cursor object, which returns all the rows as a list of tuples. We then loop through the results and print each row.\n",
    "\n",
    "    In summary, the cursor() method is used to create a cursor object, which allows us to execute queries and fetch results from the database. The execute() method is used to execute a query on the cursor object, and the fetchall() method is used to retrieve the results of the query as a list of tuples."
   ]
  },
  {
   "cell_type": "markdown",
   "id": "25d9a3a3-7720-4e8b-af21-eb4aca1a152f",
   "metadata": {},
   "source": [
    "## 7.Give the order of execution of SQL clauses in an SQL query."
   ]
  },
  {
   "cell_type": "markdown",
   "id": "b3950ed7-210a-41ef-be51-ea430d7d8406",
   "metadata": {},
   "source": [
    "### In an SQL query, the order of execution of the various clauses is as follows:\n",
    "\n",
    "1.FROM: This clause specifies the table or tables from which the data will be retrieved.\n",
    "\n",
    "2.JOIN: This clause is used to join multiple tables together based on a common column.\n",
    "\n",
    "3.WHERE: This clause is used to filter the rows that match a certain condition.\n",
    "\n",
    "4.GROUP BY: This clause is used to group the results based on one or more columns.\n",
    "\n",
    "5.HAVING: This clause is used to filter the groups that match a certain condition.\n",
    "\n",
    "6.SELECT: This clause is used to select the columns to be included in the results.\n",
    "\n",
    "7.DISTINCT: This clause is used to remove duplicates from the results.\n",
    "\n",
    "8.ORDER BY: This clause is used to sort the results based on one or more columns.\n",
    "\n",
    "9.LIMIT: This clause is used to limit the number of rows returned by the query.\n",
    "\n",
    "It's important to note that not all of these clauses are required for every SQL query. The order of execution may also vary based on the specific query being executed. However, in general, this is the typical order of execution for the clauses in an SQL query."
   ]
  },
  {
   "cell_type": "code",
   "execution_count": null,
   "id": "77270d14-801d-4984-8e5f-003e710a66ff",
   "metadata": {},
   "outputs": [],
   "source": []
  }
 ],
 "metadata": {
  "kernelspec": {
   "display_name": "Python 3 (ipykernel)",
   "language": "python",
   "name": "python3"
  },
  "language_info": {
   "codemirror_mode": {
    "name": "ipython",
    "version": 3
   },
   "file_extension": ".py",
   "mimetype": "text/x-python",
   "name": "python",
   "nbconvert_exporter": "python",
   "pygments_lexer": "ipython3",
   "version": "3.10.8"
  }
 },
 "nbformat": 4,
 "nbformat_minor": 5
}
